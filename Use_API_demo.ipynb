{
 "cells": [
  {
   "cell_type": "code",
   "execution_count": 1,
   "metadata": {
    "collapsed": true
   },
   "outputs": [],
   "source": [
    "%matplotlib inline\n",
    "from matplotlib import pyplot as plt\n",
    "from scipy.integrate import solve_ivp # for reference\n",
    "\n",
    "import autograd.numpy as np\n",
    "from neuralsolver import NNSolver"
   ]
  },
  {
   "cell_type": "markdown",
   "metadata": {},
   "source": [
    "# Define ODE problem"
   ]
  },
  {
   "cell_type": "code",
   "execution_count": 2,
   "metadata": {},
   "outputs": [],
   "source": [
    "def f(t, y):\n",
    "    '''\n",
    "        dy/dt = f(t, y)\n",
    "        This is f() function on the right\n",
    "    '''    \n",
    "    \n",
    "    return [998*y[0] + 1998*y[1], -999*y[0] - 1999*y[1]]\n",
    "\n",
    "t = np.linspace(0, 2.0, 11).reshape(-1,1) # training points\n",
    "y0_list = [2, -1]"
   ]
  },
  {
   "cell_type": "markdown",
   "metadata": {},
   "source": [
    "# Reference solution"
   ]
  },
  {
   "cell_type": "code",
   "execution_count": 3,
   "metadata": {
    "collapsed": true
   },
   "outputs": [],
   "source": [
    "sol = solve_ivp(f, [t.min(), t.max()], y0_list, method='Radau', rtol=1e-5)"
   ]
  },
  {
   "cell_type": "code",
   "execution_count": 4,
   "metadata": {},
   "outputs": [
    {
     "data": {
      "text/plain": [
       "<matplotlib.legend.Legend at 0x1114a1a20>"
      ]
     },
     "execution_count": 4,
     "metadata": {},
     "output_type": "execute_result"
    },
    {
     "data": {
      "image/png": "[encoded data removed]",
      "text/plain": [
       "<matplotlib.figure.Figure at 0x10e6111d0>"
      ]
     },
     "metadata": {},
     "output_type": "display_data"
    }
   ],
   "source": [
    "plt.plot(sol.t, sol.y[0], marker='o', label='y1')\n",
    "plt.plot(sol.t, sol.y[1], marker='o', label='y2')\n",
    "plt.legend()"
   ]
  },
  {
   "cell_type": "markdown",
   "metadata": {},
   "source": [
    "# Neural net training"
   ]
  },
  {
   "cell_type": "code",
   "execution_count": 5,
   "metadata": {},
   "outputs": [
    {
     "data": {
      "text/plain": [
       "Number of equations:      2 \n",
       "Initial condition y0:     [2, -1] \n",
       "Numnber of hidden units:  5"
      ]
     },
     "execution_count": 5,
     "metadata": {},
     "output_type": "execute_result"
    }
   ],
   "source": [
    "nn = NNSolver(f, t, y0_list, n_hidden=5)\n",
    "nn"
   ]
  },
  {
   "cell_type": "code",
   "execution_count": 6,
   "metadata": {},
   "outputs": [
    {
     "name": "stdout",
     "output_type": "stream",
     "text": [
      "iteration: 0 loss:  59469777.5901\n",
      "iteration: 100 loss:  2.39470228592\n",
      "iteration: 200 loss:  1.05761805495\n",
      "iteration: 300 loss:  0.0661338524798\n",
      "iteration: 400 loss:  0.0416328072557\n",
      "iteration: 500 loss:  0.02434171016\n",
      "iteration: 600 loss:  0.0181963528212\n",
      "iteration: 700 loss:  0.00855368564101\n",
      "iteration: 800 loss:  0.00343044582799\n",
      "iteration: 900 loss:  0.00170858105665\n",
      "Warning: Maximum number of iterations has been exceeded.\n",
      "         Current function value: 0.000711\n",
      "         Iterations: 1000\n",
      "         Function evaluations: 1176\n",
      "         Gradient evaluations: 1176\n",
      "CPU times: user 7.15 s, sys: 83.5 ms, total: 7.23 s\n",
      "Wall time: 7.33 s\n"
     ]
    }
   ],
   "source": [
    "nn.reset_weights()\n",
    "%time nn.train(maxiter=1000, iprint=100)"
   ]
  },
  {
   "cell_type": "markdown",
   "metadata": {},
   "source": [
    "# Verifying training set"
   ]
  },
  {
   "cell_type": "code",
   "execution_count": 7,
   "metadata": {},
   "outputs": [
    {
     "data": {
      "text/plain": [
       "<matplotlib.text.Text at 0x11154cf60>"
      ]
     },
     "execution_count": 7,
     "metadata": {},
     "output_type": "execute_result"
    },
    {
     "data": {
      "image/png": "[encoded data removed]",
      "text/plain": [
       "<matplotlib.figure.Figure at 0x111654668>"
      ]
     },
     "metadata": {},
     "output_type": "display_data"
    }
   ],
   "source": [
    "y_pred_list, dydt_pred_list = nn.predict()\n",
    "\n",
    "plt.plot(sol.t, sol.y[0], label='y1 true')\n",
    "plt.plot(t, y_pred_list[0], 'o', label='y1 predict')\n",
    "plt.plot(sol.t, sol.y[1], label='y2 true')\n",
    "plt.plot(t, y_pred_list[1], 'o', label='y2 predict')\n",
    "\n",
    "plt.legend()\n",
    "plt.title('y(t)')"
   ]
  },
  {
   "cell_type": "markdown",
   "metadata": {},
   "source": [
    "# Out-of sample prediction"
   ]
  },
  {
   "cell_type": "code",
   "execution_count": 8,
   "metadata": {},
   "outputs": [
    {
     "data": {
      "text/plain": [
       "<matplotlib.text.Text at 0x1116f67b8>"
      ]
     },
     "execution_count": 8,
     "metadata": {},
     "output_type": "execute_result"
    },
    {
     "data": {
      "image/png": "[encoded data removed]",
      "text/plain": [
       "<matplotlib.figure.Figure at 0x1116e7a58>"
      ]
     },
     "metadata": {},
     "output_type": "display_data"
    }
   ],
   "source": [
    "t_test = np.linspace(-0.5, 3.0, 21).reshape(-1,1)\n",
    "y_pred_list, dydt_pred_list = nn.predict(t=t_test)\n",
    "\n",
    "plt.plot(sol.t, sol.y[0], label='y1 true')\n",
    "plt.plot(t_test, y_pred_list[0], 'o', label='y1 predict')\n",
    "plt.plot(sol.t, sol.y[1], label='y2 true')\n",
    "plt.plot(t_test, y_pred_list[1], 'o', label='y2 predict')\n",
    "\n",
    "plt.legend()\n",
    "plt.title('extrapolation')"
   ]
  }
 ],
 "metadata": {
  "kernelspec": {
   "display_name": "Python 3",
   "language": "python",
   "name": "python3"
  },
  "language_info": {
   "codemirror_mode": {
    "name": "ipython",
    "version": 3
   },
   "file_extension": ".py",
   "mimetype": "text/x-python",
   "name": "python",
   "nbconvert_exporter": "python",
   "pygments_lexer": "ipython3",
   "version": "3.6.2"
  },
  "toc": {
   "nav_menu": {},
   "number_sections": true,
   "sideBar": true,
   "skip_h1_title": false,
   "toc_cell": false,
   "toc_position": {},
   "toc_section_display": "block",
   "toc_window_display": false
  }
 },
 "nbformat": 4,
 "nbformat_minor": 2
}
