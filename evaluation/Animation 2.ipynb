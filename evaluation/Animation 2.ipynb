{
 "cells": [
  {
   "cell_type": "code",
   "execution_count": 11,
   "metadata": {
    "collapsed": false
   },
   "outputs": [],
   "source": [
    "%matplotlib inline "
   ]
  },
  {
   "cell_type": "code",
   "execution_count": 1,
   "metadata": {
    "collapsed": true
   },
   "outputs": [],
   "source": [
    "import numpy as np\n",
    "import matplotlib.pyplot as plt\n",
    "\n",
    "from matplotlib import animation, rc\n",
    "from IPython.display import HTML"
   ]
  },
  {
   "cell_type": "code",
   "execution_count": 2,
   "metadata": {
    "collapsed": false
   },
   "outputs": [],
   "source": [
    "# First set up the figure, the axis, and the plot element we want to animate\n",
    "fig, ax = plt.subplots()\n",
    "\n",
    "ax.set_xlim(( 0, 2))\n",
    "ax.set_ylim((-2, 2))\n",
    "\n",
    "line, = ax.plot([], [], lw=2)"
   ]
  },
  {
   "cell_type": "code",
   "execution_count": 3,
   "metadata": {
    "collapsed": true
   },
   "outputs": [],
   "source": [
    "# initialization function: plot the background of each frame\n",
    "def init():\n",
    "    line.set_data([], [])\n",
    "    return (line,)"
   ]
  },
  {
   "cell_type": "code",
   "execution_count": 4,
   "metadata": {
    "collapsed": false
   },
   "outputs": [
    {
     "data": {
      "text/plain": [
       "array([[  0.00000000e+00,   2.00200066e-03,   4.00399331e-03, ...,\n",
       "          9.10956387e-01,   9.10128731e-01,   9.09297427e-01],\n",
       "       [  1.00000000e+00,   9.99997996e-01,   9.99991984e-01, ...,\n",
       "         -4.12502680e-01,  -4.14325589e-01,  -4.16146837e-01],\n",
       "       [  0.00000000e+00,   2.00200468e-03,   4.00402540e-03, ...,\n",
       "         -2.20836477e+00,  -2.19665103e+00,  -2.18503986e+00]])"
      ]
     },
     "execution_count": 4,
     "metadata": {},
     "output_type": "execute_result"
    }
   ],
   "source": [
    "x = np.linspace(0, 2, 1000)\n",
    "y1 = np.sin(x)\n",
    "y2 = np.cos(x)\n",
    "y3 = np.tan(x)\n",
    "\n",
    "y = np.array([y1,y2,y3])\n",
    "y"
   ]
  },
  {
   "cell_type": "code",
   "execution_count": 5,
   "metadata": {
    "collapsed": true
   },
   "outputs": [],
   "source": [
    "# animation function. This is called sequentially\n",
    "def animate(i):\n",
    "    line.set_data(x, y[i,:])\n",
    "    return (line,)"
   ]
  },
  {
   "cell_type": "code",
   "execution_count": 6,
   "metadata": {
    "collapsed": true
   },
   "outputs": [],
   "source": [
    "# call the animator. blit=True means only re-draw the parts that have changed.\n",
    "anim = animation.FuncAnimation(fig, animate, init_func=init,\n",
    "                               frames=3, interval=200, blit=True)"
   ]
  },
  {
   "cell_type": "code",
   "execution_count": 7,
   "metadata": {
    "collapsed": false
   },
   "outputs": [
    {
     "data": {
      "text/html": [
       "<video width=\"432\" height=\"288\" controls autoplay loop>\n",
       "  <source type=\"video/mp4\" src=\"data:video/mp4;base64,AAAAHGZ0eXBNNFYgAAACAGlzb21pc28yYXZjMQAAAAhmcmVlAAAanG1kYXQAAAKtBgX//6ncRem9\n",
       "5tlIt5Ys2CDZI+7veDI2NCAtIGNvcmUgMTQ4IHIyNzk1IGFhYTlhYTggLSBILjI2NC9NUEVHLTQg\n",
       "QVZDIGNvZGVjIC0gQ29weWxlZnQgMjAwMy0yMDE3IC0gaHR0cDovL3d3dy52aWRlb2xhbi5vcmcv\n",
       "eDI2NC5odG1sIC0gb3B0aW9uczogY2FiYWM9MSByZWY9MyBkZWJsb2NrPTE6MDowIGFuYWx5c2U9\n",
       "MHgzOjB4MTEzIG1lPWhleCBzdWJtZT03IHBzeT0xIHBzeV9yZD0xLjAwOjAuMDAgbWl4ZWRfcmVm\n",
       "PTEgbWVfcmFuZ2U9MTYgY2hyb21hX21lPTEgdHJlbGxpcz0xIDh4OGRjdD0xIGNxbT0wIGRlYWR6\n",
       "b25lPTIxLDExIGZhc3RfcHNraXA9MSBjaHJvbWFfcXBfb2Zmc2V0PS0yIHRocmVhZHM9OSBsb29r\n",
       "YWhlYWRfdGhyZWFkcz0xIHNsaWNlZF90aHJlYWRzPTAgbnI9MCBkZWNpbWF0ZT0xIGludGVybGFj\n",
       "ZWQ9MCBibHVyYXlfY29tcGF0PTAgY29uc3RyYWluZWRfaW50cmE9MCBiZnJhbWVzPTMgYl9weXJh\n",
       "bWlkPTIgYl9hZGFwdD0xIGJfYmlhcz0wIGRpcmVjdD0xIHdlaWdodGI9MSBvcGVuX2dvcD0wIHdl\n",
       "aWdodHA9MiBrZXlpbnQ9MjUwIGtleWludF9taW49NSBzY2VuZWN1dD00MCBpbnRyYV9yZWZyZXNo\n",
       "PTAgcmNfbG9va2FoZWFkPTQwIHJjPWNyZiBtYnRyZWU9MSBjcmY9MjMuMCBxY29tcD0wLjYwIHFw\n",
       "bWluPTAgcXBtYXg9NjkgcXBzdGVwPTQgaXBfcmF0aW89MS40MCBhcT0xOjEuMDAAgAAAD7FliIQA\n",
       "Ef/+94gfMstp+TrXchHnrS6tH1DuRnFepL3+IAAAAwAWnK7X94sfrgAIoYeZuTwx2PUeLYAo1iLx\n",
       "2+e9I2krU3QpzgSg4hKSx4f7WkcK9aKc1nNkagoABNeWH8iTDh/hHK9cnSyQVNTn/hQRJC/Vx4mi\n",
       "OV8dc8VriMDDxBFfOu8b+pUvy7AHikb6M8qF9/2VP1TLYhGYYHcAXHPOYiNbDYLs4DDKJ9jfJxXA\n",
       "2gU23zHkhCSwRS9lxDBFs60GF9AUY733Z/mamJV2UbHytPp4O3/+G2/yZTbun+slhp/I5umF7raw\n",
       "k/YvfSVJp26RjUBOBdk4J1nhAQ8Ao3vXLRtODmUOTV4nNhvjLXI8IhsN29hL33owAf2knA6Fif0k\n",
       "4wzqAin99iXvFs6BR302jlAOrZjm5DXLhiv6mKggsuLuZ/YAAA8uv5gOlVnYtrv8ZTHspf+PdLa+\n",
       "6beZQT5a/eYc69h8HigmeWifJPt8uhk9+azhkI74F7ACgzdmINiPTc2Bospb2I6WVhotQy6wyiyp\n",
       "DF7X0BqQxGxlrn9/0IdgairsfRsa37yo93ctrSpAzIhgJIH7cUWO3rYvSlLNVmuEA8zLOf2wS3lc\n",
       "AIekn71KP3jQFw31v8N5YZLWl8qQ/A99rVC2XCoFRdOXPYCizmtYdHEzsLlY5eRLS4X8pKQ3EB6e\n",
       "lPADaf9oxjHL+623EWrH9PBHqWJ/ZzZNR5slgFOijIObQe6vc6I1EbjxVPlDUHWJ1qzXGvahrntH\n",
       "fehzHl/t8gn6WQAKGCHMHmmGxHtjKW6brY5xNLjMZMXSsVotfmNKfXW5dVrHYxVY0XlgWPwe58TQ\n",
       "9DPomJORtn4MP4uoqyE45+k/bkIfz7slJCXBEUtxUtapKBJmLyZjexPja8ulvMQKMHA6iK03li/z\n",
       "zwIxHLuUgnFkVoA4tIeDTmkTKe66NLDvkMQjHFsCZVZy68eN2HwGfna/Vb9eUKiXzuET9rEmcaj4\n",
       "HKYCeZs8GvmYXblbF4s3ZafhMJ6iutNnY+qqzUJVnpzNRYLaZ7GWljBCesq3waeEG7rlChGCmJRD\n",
       "ZLUNtHAn7YVe+qZwUX/vPWCqeUlmm8r29rK6W9f+lfQFXbpu9xjSjuUA1/f37vynnpNp/7FZRKSu\n",
       "erwQUdF/eKCS5I7bCvj/D5snPv/8zQNAm7GOdIr/8qYyG/5siHnm6mqw3ru5gRq8K4WpKXfzGlWC\n",
       "KvkV/Ef5l5DmzA4FR8V37Ba7oe2Mv2RryUDw0lvez/9k+x/wg996jnWfnw4jr8YpcXAGgFLCczPd\n",
       "C1JeJlW9iG7XtwFP9zhCaTuPzpMKSWaGcxC3FzVpa5W1NxgmYc4T/sqrIfmWibjG911nxG72aHgp\n",
       "4/8ytnr3U25EZwueTSuvJlV2iVLcCttAAN1s268uCJd2bzvpnG2NPfBbyXyWdHPVl39L+8Q4L2xE\n",
       "VA1GILd+zRhkqCSPlsv0p/Q6gyPNvPnuHoMJkx0/syl1z8sKMJVHqWlAqgKV+PiL6tYMh0KWWa/U\n",
       "CRq5kf6zE7VhFPf8MurgK7HrIGgpPCX6zxJ+VVuiWKrkEwLUzycnPF2A3AgZzLRcbwoG4+1luWfN\n",
       "6/On55PuvPUqIq5gsA6cDm5P4ZbfCzgyHzvw/CCcJYomEfv0mJk9qpUbK0Cp7o7buoZjlMQswpu+\n",
       "9E19yOxhmEFJKKoXkWUzP7BNYBs41fyBvHygvwL1aVbMVo1gGCNIKrXf9T9S3GiVj8eHHZ6Rs8Xr\n",
       "3rp9jbv9BN6WZjvk50ynTZ/hqiSgqc4KRA6DLY20nQPYpT4xuiw+HaNq/LD50HkSzJzalN+rhQSY\n",
       "yMUcEMFbe1/cjZFL2CPOnHJuaCmHdZIeQHIEcy7/BcNv9G/47gFuDsKLA49w3sAIyJsV7i2yoRKy\n",
       "IsvRcMHIYXq6f8ywULSw0xru0ysFzxyaOdAQnmyvvMR6RdCRVOzODJCWpJD7AgLKhn6RriOdPGVC\n",
       "PuJAa5hHzvbQSBWrKZLrErTJ1jupMNghL8h5hRvjm+HzysEJi/RAi/+7zmk/Q67xj88XqXNB7AwL\n",
       "halhjYQgr3bc96vLI00QK72GjYUnW/N5SwkxZ8ejVYAeqwv/VSu3bxsJKdny+ShAX/qL5/+jaHBA\n",
       "/y5AwNjj6rYcQwJQMBtCn49T5lGdFxFyjEIctrf0w5RA2vfuzTb/Kw/EO44f4TAMSHidzId+wwt6\n",
       "yBg3BODjkT6cds47uUCwP24Nzv9vIsegn7YAKJfIJ68h2/vfMshxoIIqWmqO5lspyTvA4h4qO2ps\n",
       "5iJxWyP8lp3VBqXTAPt3iHJ9gAAgbBdX29KCfpFwzqPwcCqU+CFbn9ToeXaGODM4jMQfKLvdgwN1\n",
       "qj7XR+jZhJ7euvvRtReNHAY3vjqLUPhkRP99t9zgCt7nhI3KiSiTR2q7wXqfg+E1iwpCywIW+zgs\n",
       "Pf+lbIUov/TmxCFKcV84w5ERRl0BblAPuil3WwCzCiPr50vwkNmlewDW9Dj6XIQjj0LCjoTvu2In\n",
       "iZg7TvK++YmU4HSc8cGKPYXySyafe6kTgGU3Gx3TvkbeIS7tstIMoSM9hW6QJitd8Zqo7pOMKn5h\n",
       "t2SVpJQy5loCf2ZCVDj8X9zYzh7EePg6o9yza7vKAAOoQCM8QABsCINIA1gaFX8tu24OLVI08YSB\n",
       "zFW5RS25ftGPEVLv1n21hW9AvYu1zrenSgKY7QUvKuGQe7Rh9SKKnzDxtCImGkgECO34Hezxs9aA\n",
       "Bwa7EwlwCrczZouNJ1EoC1xBvk5oin0P4Dc1lwhVTv4Fw6QbP5Zx12XQwE+8pb44XVKMg2HHW/px\n",
       "nype+myhDrFGV0rNAFEejMGGIAAzEa13HU9fw9YruKxOgGapwjsKW/HpWq+TVOkGWix9E9/PpWIW\n",
       "OVrK8OuBSdhtrYQ9aeNGAOnRNUK5d3T6UdH2Da+A7kClO0O0ul6dNKy+OWfphi9omRZe+YWyfa8w\n",
       "0agSXrsqvD5CTzgryg8mXOG20/+XisQQkmIdNRkGqCeOQVMxNGWC3CMavC+8Tybf9cOlbaZpYUyw\n",
       "YOA3BYOi+MAH8iqDVu6r2C9psQeL3Fh1SFk/cvVcU9N2H5myQRBZ3UAB4linHs2l2jBxCjYr5Uvq\n",
       "uYMVT2+Z5HCBKEXx5VPlbKsTdZi+Y7t/u2/HW3K9FnyBKgsQGu1FMZbT+0E8LPxsk0eKRGMjjmp8\n",
       "LhfHYvg0bat4F+gcH9NzAo/DZvhd8v+ytyE1o2oMx1lkLa6dkx77n7ubtw2mNvAPGyZnPRqDHNfx\n",
       "elz+8J69GzD+RkWuYrmXFHixNJRzxBUKr2zk4vt2UoMzcZEQYMq9H05LrMq65nKSy/ShT3r28dEz\n",
       "9HtBpcprut5gQ9NlEFTnAQAXz15Zu0x0Wzu7//BI+V9bzQQF0SFUhvDIYL3We+nFge/Nmpsshteq\n",
       "5IZ7tI2MXmVLz7fPjkrvxt9uAWOAt3NtS/j3chfBDv+cAQq3eng/T0DFJh9TYdFbVuthnEInR56k\n",
       "h1f4GiTV1aOPOd1JLB9p7REwL3PPJsWwjg1lc/nc7geDC85sUmQnBh8U1IQhkY7wxPcjAD5WpvkO\n",
       "aaTr7PvKyTJTDecusgs7b4+n3AEN6X6yivy20MccdZ6+puNXxnWQUrm/kxdvfi+zL1bqseaLyGjJ\n",
       "6pmNClP9y/jd9xmX5ZIYyt9LlW0u/zmTPNZteFfsoTWX/9sQmOmY2nCHQFlTquPZbfpvHtR7ZWnx\n",
       "G5koEsBMvpN6idu/2+NkwNljbvVXvHCJe2wj5+cGjjYPNMFM0c1wUxeUsYqeLyhRYGpp27kbbZ8O\n",
       "f2n9eFVAz46TjXSNzM4gdOUZgMd12NOI5rrgagl3LZdb7tPLnNAUx7LQEJiz8nOllVQNKLScYHOC\n",
       "dajhGqg8e+sIhVw33DV/Koam1ed8RGF1mZY+ANsJQXJuT500hj8XlZM3/hRpWbVeBjwJcbzixV7V\n",
       "4/AaG/gVeK3+YP9BeP+dl9IOFja+lKuJNa2gnkCWZaR8LiRIhkSatsFCr07RbEvqJqF+YecSxIr/\n",
       "9Epm6uNhuGVjzBWj7o+fEppkzkF73CieVufV5kARh/5soZlixJtGDrI0nJ6bDzMo2n0dPrIrapod\n",
       "yDZpNJ48VLI6+PIjMdmXo33c2omG3NGALwrg3P69zca5TXyfa2OJeHSEJlL/5ES/Q6X486HMHXeW\n",
       "+oOswbUXg7J17w+51XWQeUfkv/UUlgrepx3kyWPsGpPpFRQVoO+8pDEyJjt3J5XNDPR8azPVCG/f\n",
       "5rPfawa1muSPtuN1yq8zVkGFaYrYnB6CSM9lifetE4Bk9Pqn4ZGbAhILQ+iMdF40zXmrnWhQTcfk\n",
       "gkLZDatggFZYqJaBRBE9AbrlPCh1cKRNP6Zpzg6DOZgjbTLVhPx0nC0ei7rnsgGqW+xNaN2idnK0\n",
       "DPKcTYtQiRcabMhQp9FIvqSpMW1/9pJR1/Cb2pyVyrcWDNe73QAqnSUce/jGmNsKPmMSajsayI/0\n",
       "7b+c2IOxGAM/ooULCACWgBSiFHts/2MZO9CygYGTB0r/4TXd7keIK4p7NohhHiF99TscsX5Pwm+p\n",
       "pjpI5na2xpYQ9Lj3HE99Et4E9pT0Uqts2O91VcRUtaPXUB5XKDWNnw3jso8DVaPkLAsXZ2a3kb+s\n",
       "cGXY5xUoCDjZiPVSh24k+k28JNhH58Ohnw9WpxA/SS10RtL2U8WAkR+4khImEvKGpoZ5kV2K23gy\n",
       "bjl2xeTCA9uowwBT2p9WsfGvianElz6jvj4B6yQT6o5uhjn20XAiiCAh1XZEWXEvROXE/ra0ZjU9\n",
       "dny2oyDIN8OaN7lCV3rWrxjuR7VqExa2DGD0SCGrA+zf3/cWXCx+J4afaW0lfPb9iDzruUo8Veow\n",
       "m3amV3PMwHidzRpy6nVyw3blvXHgFAYoEr3c4dtZLsLy/rvLyDW440W089tXmUXhGEX8KWGayl15\n",
       "0x4/LWDuCK6rkt1AjlrYTrreitLUve+5UDEn2Gm2ESOJzT7oQV70i94QyViFTjcCIG4HVP6hl7ST\n",
       "a8NTU2i9YJVlPPGubOimQroNb3FwM9SDZv3V47Pp8U2UPscisajYqXFWd1XfeErk+csJgQviifaG\n",
       "bINRwGz1FAp93piW+FIahMZasHVjIY2YPfkvRW9JqpnJpdcArYx51Z4ugQq3+SaUOl4H7vJreop4\n",
       "7XACE92t5FU5D7LNAxUZ0/wGhTYnacM6ik0EaIFmVwyYMTDmVhrL1CK5tagW5U9wauemmq2XZP3C\n",
       "UwDGAmOaBHeznGQW5W6zTYJ3Qjac08I1MUFn1JgaNEMUhawx4Jd+b1CxZueRPK7t7fijRMuQyGLe\n",
       "A8/FN9bdzJLxgATcZmfHEJkHpK88SYEAAANkQZoibEP//qmWAKxnf81aJN6BgAnJRKvQtaGSs/kd\n",
       "5PlfWQEIel5Dcqjr10U9GvIOZNIZxsvqbeobDnGA8jYq4e14sf33Tp99DyWNWSUnKZTK1wURRQdQ\n",
       "OZPbvPbl9jh+Ng3agxdZmDskAm1KzHBBtorlhdz3i+yRFtjXnPRgIzvndtvDxJqe7Hw8xocIeHkX\n",
       "M32hglldcQFW/bgwT/JxZRUcCbJPyYRXmPVuWF+VRwnjKKWKHq5O+WIV4hewhYukfRzt61u6KIBH\n",
       "jTVJZtb+IIdBHvWCX0VWMyFciBlomfdB7JDmbWqAHknmej54SrAdp7jHA9e7kB5dJUP2c6rT9CYY\n",
       "nwTNtP4eNSRux4OEx4G2FuCD14Z3jSd0ceadNLXqs8yPGq0Lg3NZRIGE0v2DB1i0mOXVvjBVNQRd\n",
       "Kw/KVXmpjOuwt8P5qobICwyjS4/PHknRAKhqHRRDWWkqmq/yVXkbgDSaYz2pqUIZcI+pz8C70c3y\n",
       "uQXmBP6SnhLeJT0JTyv++JIShf7B16Valkunf8Uk90RceC+5PFiYc1o9cyG1Mzci0SYmVUn0P4hf\n",
       "bqzs1hDK9ddlF3XVISqDbcHuftlArXfbMNjoennb3CwSZ0SoQh6Lz3wfmT/4BNlQ4QOhqxIZPMyc\n",
       "4qAW9s2igoHFdRmf10tUrxd3DVp2LhbqzwJv6QCftY5hPMYbfwdNdMLiB5weFQ6BhRepmn6nSqog\n",
       "RQQV9gFktWRZgfVraMo+kkJCeGQJRm4/f7dp80YHG3CFLjg8n3N0xr4dsXlFAHmxM8EEn4EjkAG6\n",
       "q3ctT8f9KKvDDjRjmkBXZwCrQPdeF5YUtDErcY5n/BMd0iN7/WAAR9m6JLwqnX3jrAlc8XGZh7io\n",
       "vfv1+sBCuzbtPuXwq/Zwl8LFskxj4RYg9DuQaANxl1QJsQAg44bMAhnx55blktuvtEsyx+IDf1jy\n",
       "TXsVcYkNESk0NvQCD59opGACdPZ5Vn8f4IiWOxqmY7Lbgf8eBYRRLQJDXmFwuuVWdYXWMGM9NxuH\n",
       "Ws1Y8LfSkOKD5Y5mS//R3DnJFBhffGC6hm4iVZhVN98gPl57xGD1vLsV9KXustUe/ho51v06Y30d\n",
       "apL8YTRbTtMnZ7Rah67qsLyBdVTgdQcsaNs6A81JBWnALuRY8cEBgAAABMIBnkF5D/8AgsTNWc59\n",
       "wUbcPlqdm0jgK3kuywAfmy7RudnAj6ayNL7828Z7GGCXYl8Fb0tWIK9D5KdjP3wYtUKaTZ5AqsAk\n",
       "Nf1sRhCLMeLqFQnESUnq4ucPVmSEisHTPReR7KrTdB4XtK/uWL6Sqlp8vBwUi81/4TpLD4sP8x5K\n",
       "NpgG7KyeE9oV1/PYtEImu24STOkdWT2Q9Z1zSWQOtO8xsgKsVQeypzEcAhh1jkRE+JqwmAo/nlCB\n",
       "ktp/OzSYL84f053MmKPlRw1jhdOUrtnlsbDnANLxiWP2unwGhYpjphpo4Ab78rcHjJ7PlZ9dT/Mw\n",
       "8gLpOKDkkdySbzJthTjeVwOBi2Zoh/InDfxtpDhXkm3oi/41/m9s6UEN0RVTq6uwq3angKKeMvlR\n",
       "+tsJ4ToaQzkaDXqEc4MMQ0iuPdDi4xfNx68lDZBoaHc3T6m6W8j2xsVy2JL1w6uTuepAr5u1227k\n",
       "lk9Es0N110WslYRBCEJes+xngkmoIqiHpKrS6PBuiA/p3EXHBmUG3uuC88g4GaVV35OU8r2dv6We\n",
       "EU4xrJ+li4CpTSLBfIdp7mNCC3pFPUcfOqWBREQV6XBw1S0tULl6I2JV/KuETcBrsf3iFMTePcOx\n",
       "kF4COWQCC2Dn1eyWPuTWAeg/qMqCAE6lI8ZBVJ+Yi8tDDQXwZfMTT8V11IvwFEY2uJbrR1u3lQ6f\n",
       "2kao4jOyINNEckWucEYpZaFAn5zuRfr1xTg0DYwSgeQIaogpR05X0RqhdQfdXBiwugKFl5nEfdBF\n",
       "wjP48F7UucGuGIXF87Q7HXDirNZp7pzIStnvmWXpws4rxsK1Tz8n0gjIK2JHg2wCHUjKX4Czbb+9\n",
       "SGzOSLNTf75fAdeL9YmKbqgVVkazNjFVkDdCANlhORsU5bFsoy43VbuD3gzRI0aoSGDlFTjgCkjV\n",
       "UvvbphuWFxps3g1MXpcZL+IlL4nFVgLJhIA20XERM5IZe7Vecd1OwmJeCQp1s94Y79ufNPB9Oc9A\n",
       "mk4VaY3J/IGJjgxKckvTEznkQpHugWHtfts42he+buBxiirJK58nky/jdSTai8/o8dM+B9JCXwlK\n",
       "q+dPQjn/azCvAwZURK/g5wezMSijjmvrDFXpN9vGD9xDv97y1BJeyPDQGlcjZvFaIVhkDYQD7omp\n",
       "XLoMX3av/1SNxq5xaSrw3gsnHUyeT2cxwR6yF+KVVL5Em0684vu8tOqNPPtHzq6tHf5LSSr9P2Hn\n",
       "S8N2jvBuG/IJ+NGhzBXASoFEh1e11xSzsy2Lshth7lZvf9/mJplTJ+SjkK6ZH+4TyooPuv7gtqwh\n",
       "/2G0Flca2EzRZoPP4iNwBCCxEn6wyxySNtsPIwjxM2Kg7OVIMrXOy4DVJoBZIMpT53LbJfp7Ki/L\n",
       "wUULATFHdBqyVSHWz5PmU7NAniorM6491Egmem5tTEnm0EXUL0s4jSvv//R3VZdTywMqVkWcKXqo\n",
       "s9G6dkbXgLV/zxEPSH/U1PKPnnJdqIzp6eSLyj5cTvXm7UmiaEfcE0jXyY3xqGNT6SNFjwRxATr6\n",
       "zWIgVb2KMZVLGWON8sNYq3VwZFKcfKfATY7qxiC9qjnGbxIDNfWSwmT6YXU1I3E+lvpBS75iKlNs\n",
       "l6gE0yEr+SEAAANSbW9vdgAAAGxtdmhkAAAAAAAAAAAAAAAAAAAD6AAAAlgAAQAAAQAAAAAAAAAA\n",
       "AAAAAAEAAAAAAAAAAAAAAAAAAAABAAAAAAAAAAAAAAAAAABAAAAAAAAAAAAAAAAAAAAAAAAAAAAA\n",
       "AAAAAAAAAAAAAgAAAnx0cmFrAAAAXHRraGQAAAADAAAAAAAAAAAAAAABAAAAAAAAAlgAAAAAAAAA\n",
       "AAAAAAAAAAAAAAEAAAAAAAAAAAAAAAAAAAABAAAAAAAAAAAAAAAAAABAAAAAAbAAAAEgAAAAAAAk\n",
       "ZWR0cwAAABxlbHN0AAAAAAAAAAEAAAJYAAAQAAABAAAAAAH0bWRpYQAAACBtZGhkAAAAAAAAAAAA\n",
       "AAAAAAAoAAAAGABVxAAAAAAALWhkbHIAAAAAAAAAAHZpZGUAAAAAAAAAAAAAAABWaWRlb0hhbmRs\n",
       "ZXIAAAABn21pbmYAAAAUdm1oZAAAAAEAAAAAAAAAAAAAACRkaW5mAAAAHGRyZWYAAAAAAAAAAQAA\n",
       "AAx1cmwgAAAAAQAAAV9zdGJsAAAAs3N0c2QAAAAAAAAAAQAAAKNhdmMxAAAAAAAAAAEAAAAAAAAA\n",
       "AAAAAAAAAAAAAbABIABIAAAASAAAAAAAAAABAAAAAAAAAAAAAAAAAAAAAAAAAAAAAAAAAAAAAAAA\n",
       "AAAAGP//AAAAMWF2Y0MBZAAV/+EAGGdkABWs2UGwloQAAAMABAAAAwAoPFi2WAEABmjr48siwAAA\n",
       "ABx1dWlka2hA8l8kT8W6OaUbzwMj8wAAAAAAAAAYc3R0cwAAAAAAAAABAAAAAwAACAAAAAAUc3Rz\n",
       "cwAAAAAAAAABAAAAAQAAAChjdHRzAAAAAAAAAAMAAAABAAAQAAAAAAEAABgAAAAAAQAACAAAAAAc\n",
       "c3RzYwAAAAAAAAABAAAAAQAAAAMAAAABAAAAIHN0c3oAAAAAAAAAAAAAAAMAABJmAAADaAAABMYA\n",
       "AAAUc3RjbwAAAAAAAAABAAAALAAAAGJ1ZHRhAAAAWm1ldGEAAAAAAAAAIWhkbHIAAAAAAAAAAG1k\n",
       "aXJhcHBsAAAAAAAAAAAAAAAALWlsc3QAAAAlqXRvbwAAAB1kYXRhAAAAAQAAAABMYXZmNTcuODMu\n",
       "MTAw\n",
       "\">\n",
       "  Your browser does not support the video tag.\n",
       "</video>"
      ],
      "text/plain": [
       "<IPython.core.display.HTML object>"
      ]
     },
     "execution_count": 7,
     "metadata": {},
     "output_type": "execute_result"
    }
   ],
   "source": [
    "HTML(anim.to_html5_video())"
   ]
  },
  {
   "cell_type": "code",
   "execution_count": null,
   "metadata": {
    "collapsed": true
   },
   "outputs": [],
   "source": []
  }
 ],
 "metadata": {
  "kernelspec": {
   "display_name": "Python [py36]",
   "language": "python",
   "name": "Python [py36]"
  },
  "language_info": {
   "codemirror_mode": {
    "name": "ipython",
    "version": 3
   },
   "file_extension": ".py",
   "mimetype": "text/x-python",
   "name": "python",
   "nbconvert_exporter": "python",
   "pygments_lexer": "ipython3",
   "version": "3.6.2"
  }
 },
 "nbformat": 4,
 "nbformat_minor": 0
}
