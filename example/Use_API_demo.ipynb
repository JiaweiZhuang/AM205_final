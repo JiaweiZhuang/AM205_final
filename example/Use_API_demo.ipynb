{
 "cells": [
  {
   "cell_type": "code",
   "execution_count": 1,
   "metadata": {
    "collapsed": true
   },
   "outputs": [],
   "source": [
    "%matplotlib inline\n",
    "from matplotlib import pyplot as plt\n",
    "from scipy.integrate import solve_ivp # for reference\n",
    "\n",
    "import autograd.numpy as np\n",
    "from neuralsolver import NNSolver"
   ]
  },
  {
   "cell_type": "markdown",
   "metadata": {},
   "source": [
    "# Define ODE problem"
   ]
  },
  {
   "cell_type": "code",
   "execution_count": 2,
   "metadata": {
    "collapsed": true
   },
   "outputs": [],
   "source": [
    "def f(t, y):\n",
    "    '''\n",
    "        dy/dt = f(t, y)\n",
    "        This is f() function on the right\n",
    "    '''    \n",
    "    \n",
    "    return [t*(998*y[0] + 1998*y[1]), -999*y[0] - 1999*y[1]]\n",
    "\n",
    "t = np.linspace(0, 2.0, 11).reshape(-1,1) # training points\n",
    "y0_list = [2, -1]"
   ]
  },
  {
   "cell_type": "markdown",
   "metadata": {},
   "source": [
    "# Reference solution"
   ]
  },
  {
   "cell_type": "code",
   "execution_count": 3,
   "metadata": {
    "collapsed": true
   },
   "outputs": [],
   "source": [
    "sol = solve_ivp(f, [t.min(), t.max()], y0_list, method='Radau', rtol=1e-5)"
   ]
  },
  {
   "cell_type": "code",
   "execution_count": 4,
   "metadata": {},
   "outputs": [
    {
     "data": {
      "text/plain": [
       "<matplotlib.legend.Legend at 0x109d67780>"
      ]
     },
     "execution_count": 4,
     "metadata": {},
     "output_type": "execute_result"
    },
    {
     "data": {
      "image/png": "[encoded data removed]",
      "text/plain": [
       "<matplotlib.figure.Figure at 0x106a104a8>"
      ]
     },
     "metadata": {},
     "output_type": "display_data"
    }
   ],
   "source": [
    "plt.plot(sol.t, sol.y[0], marker='o', label='y1')\n",
    "plt.plot(sol.t, sol.y[1], marker='o', label='y2')\n",
    "plt.legend()"
   ]
  },
  {
   "cell_type": "markdown",
   "metadata": {},
   "source": [
    "# Neural net training"
   ]
  },
  {
   "cell_type": "code",
   "execution_count": 5,
   "metadata": {},
   "outputs": [
    {
     "data": {
      "text/plain": [
       "Neural ODE Solver \n",
       "Number of equations:       2 \n",
       "Initial condition y0:      [2, -1] \n",
       "Numnber of hidden units:   10 \n",
       "Number of training points: 11 "
      ]
     },
     "execution_count": 5,
     "metadata": {},
     "output_type": "execute_result"
    }
   ],
   "source": [
    "nn = NNSolver(f, t, y0_list, n_hidden=10)\n",
    "nn"
   ]
  },
  {
   "cell_type": "code",
   "execution_count": 6,
   "metadata": {},
   "outputs": [
    {
     "name": "stdout",
     "output_type": "stream",
     "text": [
      "iteration: 0 loss:  2204736.67699\n",
      "iteration: 100 loss:  1.23726440781\n",
      "iteration: 200 loss:  0.953057621216\n",
      "iteration: 300 loss:  0.875675298238\n",
      "iteration: 400 loss:  0.860155018982\n",
      "iteration: 500 loss:  0.849166752837\n",
      "iteration: 600 loss:  0.835391987443\n",
      "iteration: 700 loss:  0.823148753788\n",
      "iteration: 800 loss:  0.816963411084\n",
      "iteration: 900 loss:  0.808751912695\n",
      "Warning: Maximum number of iterations has been exceeded.\n",
      "         Current function value: 0.807156\n",
      "         Iterations: 1000\n",
      "         Function evaluations: 1197\n",
      "         Gradient evaluations: 1197\n",
      "CPU times: user 7.42 s, sys: 83.6 ms, total: 7.5 s\n",
      "Wall time: 7.59 s\n"
     ]
    }
   ],
   "source": [
    "nn.reset_weights()\n",
    "%time nn.train(maxiter=1000, iprint=100)"
   ]
  },
  {
   "cell_type": "markdown",
   "metadata": {},
   "source": [
    "# Verifying training set"
   ]
  },
  {
   "cell_type": "code",
   "execution_count": 7,
   "metadata": {},
   "outputs": [
    {
     "data": {
      "text/plain": [
       "<matplotlib.text.Text at 0x109e1afd0>"
      ]
     },
     "execution_count": 7,
     "metadata": {},
     "output_type": "execute_result"
    },
    {
     "data": {
      "image/png": "[encoded data removed]",
      "text/plain": [
       "<matplotlib.figure.Figure at 0x109f27320>"
      ]
     },
     "metadata": {},
     "output_type": "display_data"
    }
   ],
   "source": [
    "y_pred_list, dydt_pred_list = nn.predict()\n",
    "\n",
    "plt.plot(sol.t, sol.y[0], label='y1 true')\n",
    "plt.plot(t, y_pred_list[0], 'o', label='y1 predict')\n",
    "plt.plot(sol.t, sol.y[1], label='y2 true')\n",
    "plt.plot(t, y_pred_list[1], 'o', label='y2 predict')\n",
    "\n",
    "plt.legend()\n",
    "plt.title('y(t)')"
   ]
  },
  {
   "cell_type": "markdown",
   "metadata": {},
   "source": [
    "# Out-of sample prediction"
   ]
  },
  {
   "cell_type": "code",
   "execution_count": 8,
   "metadata": {},
   "outputs": [
    {
     "data": {
      "text/plain": [
       "<matplotlib.text.Text at 0x10a073b70>"
      ]
     },
     "execution_count": 8,
     "metadata": {},
     "output_type": "execute_result"
    },
    {
     "data": {
      "image/png": "[encoded data removed]",
      "text/plain": [
       "<matplotlib.figure.Figure at 0x109e13128>"
      ]
     },
     "metadata": {},
     "output_type": "display_data"
    }
   ],
   "source": [
    "t_test = np.linspace(-0.5, 3.0, 21).reshape(-1,1)\n",
    "y_pred_list, dydt_pred_list = nn.predict(t=t_test)\n",
    "\n",
    "plt.plot(sol.t, sol.y[0], label='y1 true')\n",
    "plt.plot(t_test, y_pred_list[0], 'o', label='y1 predict')\n",
    "plt.plot(sol.t, sol.y[1], label='y2 true')\n",
    "plt.plot(t_test, y_pred_list[1], 'o', label='y2 predict')\n",
    "\n",
    "plt.legend()\n",
    "plt.title('extrapolation')"
   ]
  },
  {
   "cell_type": "markdown",
   "metadata": {
    "collapsed": true
   },
   "source": [
    "# API Docs"
   ]
  },
  {
   "cell_type": "code",
   "execution_count": 9,
   "metadata": {},
   "outputs": [
    {
     "name": "stdout",
     "output_type": "stream",
     "text": [
      "Help on function __init__ in module neuralsolver.core:\n",
      "\n",
      "__init__(self, f, t, y0_list, n_hidden=10)\n",
      "    Neural Network Solver Class\n",
      "    \n",
      "    Parameters\n",
      "    ----------\n",
      "    f : callable\n",
      "        Right-hand side of the ODE system dy/dt = f(t, y).\n",
      "        Similar to the input for scipy.integrate.solve_ivp()\n",
      "        For a single ODE, should return a list of one element.\n",
      "    \n",
      "    t : 1D numpy array\n",
      "        Training points\n",
      "    \n",
      "    y0_list : a list of floating point numbers\n",
      "        Initial condition.\n",
      "        For a single ODE, should be a list of one element.\n",
      "    \n",
      "    n_hidden : integer, optional\n",
      "        Number of hidden units of the NN\n",
      "\n"
     ]
    }
   ],
   "source": [
    "help(NNSolver.__init__)"
   ]
  },
  {
   "cell_type": "code",
   "execution_count": 10,
   "metadata": {},
   "outputs": [
    {
     "name": "stdout",
     "output_type": "stream",
     "text": [
      "Help on method train in module neuralsolver.core:\n",
      "\n",
      "train(method='BFGS', maxiter=2000, iprint=200) method of neuralsolver.core.NNSolver instance\n",
      "    Train the neural net\n",
      "    \n",
      "    Parameters\n",
      "    ----------\n",
      "    method : string, optional\n",
      "        Optimization method for scipy.optimize.minimize()\n",
      "        'BFGS' should be the most robust one\n",
      "    \n",
      "    maxiter : integer, optional\n",
      "        Maximum number of iterations\n",
      "    \n",
      "    maxiter : integer, optional\n",
      "        Print loss per iprint step\n",
      "\n"
     ]
    }
   ],
   "source": [
    "help(nn.train)"
   ]
  },
  {
   "cell_type": "code",
   "execution_count": 11,
   "metadata": {},
   "outputs": [
    {
     "name": "stdout",
     "output_type": "stream",
     "text": [
      "Help on method reset_weights in module neuralsolver.core:\n",
      "\n",
      "reset_weights() method of neuralsolver.core.NNSolver instance\n",
      "    reinitialize NN weights (randomly)\n",
      "\n"
     ]
    }
   ],
   "source": [
    "help(nn.reset_weights)"
   ]
  },
  {
   "cell_type": "code",
   "execution_count": 12,
   "metadata": {},
   "outputs": [
    {
     "name": "stdout",
     "output_type": "stream",
     "text": [
      "Help on method predict in module neuralsolver.core:\n",
      "\n",
      "predict(t=None) method of neuralsolver.core.NNSolver instance\n",
      "    Make new predicts\n",
      "    \n",
      "    Parameters\n",
      "    ----------\n",
      "    t : 1D numpy array, optional\n",
      "        use training points by default\n",
      "\n"
     ]
    }
   ],
   "source": [
    "help(nn.predict)"
   ]
  }
 ],
 "metadata": {
  "kernelspec": {
   "display_name": "Python 3",
   "language": "python",
   "name": "python3"
  },
  "language_info": {
   "codemirror_mode": {
    "name": "ipython",
    "version": 3
   },
   "file_extension": ".py",
   "mimetype": "text/x-python",
   "name": "python",
   "nbconvert_exporter": "python",
   "pygments_lexer": "ipython3",
   "version": "3.6.2"
  },
  "toc": {
   "nav_menu": {},
   "number_sections": true,
   "sideBar": true,
   "skip_h1_title": false,
   "toc_cell": false,
   "toc_position": {},
   "toc_section_display": "block",
   "toc_window_display": false
  }
 },
 "nbformat": 4,
 "nbformat_minor": 2
}
