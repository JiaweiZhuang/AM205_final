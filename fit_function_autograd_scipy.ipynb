{
 "cells": [
  {
   "cell_type": "code",
   "execution_count": 1,
   "metadata": {
    "collapsed": true
   },
   "outputs": [],
   "source": [
    "%matplotlib inline\n",
    "import matplotlib.pyplot as plt\n",
    "from scipy.optimize import minimize\n",
    "\n",
    "#import numpy as np\n",
    "import autograd.numpy as np\n",
    "import autograd.numpy.random as npr\n",
    "from autograd import grad\n",
    "from autograd.util import flatten_func, flatten"
   ]
  },
  {
   "cell_type": "markdown",
   "metadata": {},
   "source": [
    "## Generate data"
   ]
  },
  {
   "cell_type": "code",
   "execution_count": 2,
   "metadata": {
    "collapsed": true
   },
   "outputs": [],
   "source": [
    "def f1(x):\n",
    "    return x**2/20 + np.sin(2*x)"
   ]
  },
  {
   "cell_type": "code",
   "execution_count": 3,
   "metadata": {},
   "outputs": [
    {
     "data": {
      "text/plain": [
       "((200, 1), (200, 1))"
      ]
     },
     "execution_count": 3,
     "metadata": {},
     "output_type": "execute_result"
    },
    {
     "data": {
      "image/png": "[encoded data removed]",
      "text/plain": [
       "<matplotlib.figure.Figure at 0x119670390>"
      ]
     },
     "metadata": {},
     "output_type": "display_data"
    }
   ],
   "source": [
    "x = np.arange(-10, 10, 0.1).reshape(-1,1) # shape: [n_sample*n_in] (n_in=1 here)\n",
    "y_true = f1(x)\n",
    "plt.plot(x, y_true) \n",
    "x.shape, y_true.shape"
   ]
  },
  {
   "cell_type": "markdown",
   "metadata": {},
   "source": [
    "## Build NN"
   ]
  },
  {
   "cell_type": "markdown",
   "metadata": {},
   "source": [
    "https://github.com/HIPS/autograd/blob/master/examples/neural_net_regression.py"
   ]
  },
  {
   "cell_type": "code",
   "execution_count": 4,
   "metadata": {},
   "outputs": [
    {
     "name": "stdout",
     "output_type": "stream",
     "text": [
      "[(1, 10), (10,), (10, 1), (1,)]\n"
     ]
    }
   ],
   "source": [
    "def init_weights(n_in=1, n_hidden=10, n_out=1):\n",
    "    W1 = npr.randn(n_in, n_hidden)\n",
    "    b1 = np.zeros(n_hidden)\n",
    "    W2 = npr.randn(n_hidden, n_out)\n",
    "    b2 = np.zeros(n_out)\n",
    "    params = [W1, b1, W2, b2]\n",
    "    return params\n",
    "\n",
    "params = init_weights()\n",
    "print([ p.shape for p in params ])"
   ]
  },
  {
   "cell_type": "code",
   "execution_count": 5,
   "metadata": {
    "collapsed": true
   },
   "outputs": [],
   "source": [
    "def predict(params, x, act=np.tanh):\n",
    "    W1, b1, W2, b2 = params\n",
    "    \n",
    "    a = act(np.dot(x, W1) + b1)\n",
    "    y = np.dot(a, W2) + b2\n",
    "    \n",
    "    return y"
   ]
  },
  {
   "cell_type": "code",
   "execution_count": 6,
   "metadata": {},
   "outputs": [
    {
     "data": {
      "text/plain": [
       "[<matplotlib.lines.Line2D at 0x11ca49f28>]"
      ]
     },
     "execution_count": 6,
     "metadata": {},
     "output_type": "execute_result"
    },
    {
     "data": {
      "image/png": "[encoded data removed]",
      "text/plain": [
       "<matplotlib.figure.Figure at 0x11c96ca90>"
      ]
     },
     "metadata": {},
     "output_type": "display_data"
    }
   ],
   "source": [
    "y_pred = predict(params, x)\n",
    "plt.plot(x, y_pred)"
   ]
  },
  {
   "cell_type": "code",
   "execution_count": 7,
   "metadata": {
    "collapsed": true
   },
   "outputs": [],
   "source": [
    "def loss_func(params, x, y_true):\n",
    "    y_pred = predict(params, x)\n",
    "    loss = np.mean((y_pred - y_true)**2)\n",
    "    return loss"
   ]
  },
  {
   "cell_type": "code",
   "execution_count": 8,
   "metadata": {},
   "outputs": [
    {
     "data": {
      "text/plain": [
       "5.4291211526426313"
      ]
     },
     "execution_count": 8,
     "metadata": {},
     "output_type": "execute_result"
    }
   ],
   "source": [
    "loss_func(params, x, y_true)"
   ]
  },
  {
   "cell_type": "code",
   "execution_count": 9,
   "metadata": {
    "collapsed": true
   },
   "outputs": [],
   "source": [
    "loss_grad_func = grad(loss_func)"
   ]
  },
  {
   "cell_type": "code",
   "execution_count": 10,
   "metadata": {},
   "outputs": [
    {
     "data": {
      "text/plain": [
       "[array([[-0.00197857,  0.80850176, -0.2155142 , -0.00334588,  0.09453703,\n",
       "         -0.0201857 , -0.39516054,  0.01420522, -0.05310073, -0.00290124]]),\n",
       " array([  2.14327107e-03,  -2.42251484e+00,   2.67289617e-01,\n",
       "         -1.68882727e-04,  -1.67697166e-01,  -4.97689438e-03,\n",
       "          1.18697007e+00,   1.22704510e-03,   5.62386471e-02,\n",
       "         -2.04042210e-03]),\n",
       " array([[ 0.19661835],\n",
       "        [-0.05318159],\n",
       "        [-0.17768773],\n",
       "        [ 0.16083495],\n",
       "        [-0.15689567],\n",
       "        [-0.19387406],\n",
       "        [ 0.04933582],\n",
       "        [-0.17777374],\n",
       "        [ 0.18700583],\n",
       "        [-0.19902996]]),\n",
       " array([-3.32302228])]"
      ]
     },
     "execution_count": 10,
     "metadata": {},
     "output_type": "execute_result"
    }
   ],
   "source": [
    "loss_grad_func(params, x, y_true)"
   ]
  },
  {
   "cell_type": "markdown",
   "metadata": {},
   "source": [
    "## Gradient descend"
   ]
  },
  {
   "cell_type": "code",
   "execution_count": 11,
   "metadata": {},
   "outputs": [
    {
     "name": "stdout",
     "output_type": "stream",
     "text": [
      "5.247\n",
      "2.728\n",
      "2.078\n",
      "1.845\n",
      "1.576\n",
      "1.365\n",
      "1.180\n",
      "1.059\n",
      "0.959\n",
      "0.868\n",
      "0.785\n",
      "0.726\n",
      "0.684\n",
      "0.651\n",
      "0.625\n",
      "0.604\n",
      "0.879\n",
      "0.710\n",
      "0.660\n",
      "0.634\n"
     ]
    }
   ],
   "source": [
    "lr = 0.01 # learning rate\n",
    "\n",
    "params = init_weights(n_hidden = 20) # re-initialize weight\n",
    "for t in range(1000):\n",
    "    loss_grad =  loss_grad_func(params, x, y_true)\n",
    "    \n",
    "    for p, p_grad in zip(params, loss_grad):\n",
    "        p -= lr*p_grad\n",
    "        \n",
    "    if t % 50 == 0:\n",
    "        loss = loss_func(params, x, y_true)\n",
    "        print('{:.3f}'.format(loss))"
   ]
  },
  {
   "cell_type": "code",
   "execution_count": 12,
   "metadata": {},
   "outputs": [
    {
     "data": {
      "text/plain": [
       "[<matplotlib.lines.Line2D at 0x11cb85fd0>]"
      ]
     },
     "execution_count": 12,
     "metadata": {},
     "output_type": "execute_result"
    },
    {
     "data": {
      "image/png": "[encoded data removed]",
      "text/plain": [
       "<matplotlib.figure.Figure at 0x11caee3c8>"
      ]
     },
     "metadata": {},
     "output_type": "display_data"
    }
   ],
   "source": [
    "y_pred = predict(params, x)\n",
    "plt.plot(x, y_pred)\n",
    "plt.plot(x, y_true)"
   ]
  },
  {
   "cell_type": "markdown",
   "metadata": {},
   "source": [
    "## Scipy optimization"
   ]
  },
  {
   "cell_type": "markdown",
   "metadata": {},
   "source": [
    "Gradient function generated by autograd can be used the jacobian for scipy optimizers. Example:\n",
    "- https://github.com/HIPS/autograd/blob/master/examples/rosenbrock.py"
   ]
  },
  {
   "cell_type": "markdown",
   "metadata": {},
   "source": [
    "Scipy optimizer expects a single 1D array. Autograd provides functions to unroll a list of arrays to 1D array\n",
    "- https://github.com/HIPS/autograd/blob/master/autograd/util.py#L87"
   ]
  },
  {
   "cell_type": "markdown",
   "metadata": {},
   "source": [
    "### Flat weight parameters"
   ]
  },
  {
   "cell_type": "code",
   "execution_count": 13,
   "metadata": {
    "collapsed": true
   },
   "outputs": [],
   "source": [
    "params = init_weights(n_hidden = 10) # re-initialize weight"
   ]
  },
  {
   "cell_type": "code",
   "execution_count": 14,
   "metadata": {},
   "outputs": [],
   "source": [
    "flattened_params, unflat_func = flatten(params)"
   ]
  },
  {
   "cell_type": "code",
   "execution_count": 15,
   "metadata": {
    "collapsed": true
   },
   "outputs": [],
   "source": [
    "def loss_wrap(flattened_params, x, y_true):\n",
    "    params = unflat_func(flattened_params) # recover\n",
    "    y_pred = predict(params, x)\n",
    "    loss = np.mean((y_pred - y_true)**2)\n",
    "    return loss"
   ]
  },
  {
   "cell_type": "code",
   "execution_count": 16,
   "metadata": {},
   "outputs": [
    {
     "data": {
      "text/plain": [
       "16.943307376555943"
      ]
     },
     "execution_count": 16,
     "metadata": {},
     "output_type": "execute_result"
    }
   ],
   "source": [
    "loss_func(params, x, y_true)"
   ]
  },
  {
   "cell_type": "code",
   "execution_count": 17,
   "metadata": {},
   "outputs": [
    {
     "data": {
      "text/plain": [
       "16.943307376555943"
      ]
     },
     "execution_count": 17,
     "metadata": {},
     "output_type": "execute_result"
    }
   ],
   "source": [
    "loss_wrap(flattened_params, x, y_true)"
   ]
  },
  {
   "cell_type": "code",
   "execution_count": 18,
   "metadata": {
    "collapsed": true
   },
   "outputs": [],
   "source": [
    "grad_wrap = grad(loss_wrap)"
   ]
  },
  {
   "cell_type": "code",
   "execution_count": 19,
   "metadata": {
    "collapsed": true
   },
   "outputs": [],
   "source": [
    "# use global x and y for now!\n",
    "def loss_part(flattened_params):\n",
    "    return loss_wrap(flattened_params, x, y_true)\n",
    "\n",
    "def grad_part(flattened_params):\n",
    "    # use global x and y for now\n",
    "    return grad_wrap(flattened_params, x, y_true)"
   ]
  },
  {
   "cell_type": "code",
   "execution_count": 20,
   "metadata": {},
   "outputs": [],
   "source": [
    "optim_params = minimize(loss_part, x0=flattened_params, jac=grad_part, method=\"BFGS\")"
   ]
  },
  {
   "cell_type": "code",
   "execution_count": 21,
   "metadata": {},
   "outputs": [
    {
     "name": "stdout",
     "output_type": "stream",
     "text": [
      "6763 6763 Maximum number of iterations has been exceeded.\n"
     ]
    }
   ],
   "source": [
    "o = optim_params\n",
    "print(o.njev, o.nfev, o.message)"
   ]
  },
  {
   "cell_type": "code",
   "execution_count": 22,
   "metadata": {},
   "outputs": [
    {
     "data": {
      "text/plain": [
       "0.0026337937456121525"
      ]
     },
     "execution_count": 22,
     "metadata": {},
     "output_type": "execute_result"
    }
   ],
   "source": [
    "loss_wrap(optim_params.x , x, y_true)"
   ]
  },
  {
   "cell_type": "code",
   "execution_count": 23,
   "metadata": {
    "scrolled": true
   },
   "outputs": [
    {
     "data": {
      "text/plain": [
       "[<matplotlib.lines.Line2D at 0x11c9b4fd0>]"
      ]
     },
     "execution_count": 23,
     "metadata": {},
     "output_type": "execute_result"
    },
    {
     "data": {
      "image/png": "[encoded data removed]",
      "text/plain": [
       "<matplotlib.figure.Figure at 0x11c9b4ac8>"
      ]
     },
     "metadata": {},
     "output_type": "display_data"
    }
   ],
   "source": [
    "y_pred = predict(unflat_func(optim_params.x), x)\n",
    "plt.plot(x, y_true)\n",
    "plt.plot(x, y_pred, '.')"
   ]
  }
 ],
 "metadata": {
  "kernelspec": {
   "display_name": "Python 3",
   "language": "python",
   "name": "python3"
  },
  "language_info": {
   "codemirror_mode": {
    "name": "ipython",
    "version": 3
   },
   "file_extension": ".py",
   "mimetype": "text/x-python",
   "name": "python",
   "nbconvert_exporter": "python",
   "pygments_lexer": "ipython3",
   "version": "3.6.2"
  },
  "toc": {
   "nav_menu": {},
   "number_sections": true,
   "sideBar": true,
   "skip_h1_title": false,
   "toc_cell": false,
   "toc_position": {},
   "toc_section_display": "block",
   "toc_window_display": false
  }
 },
 "nbformat": 4,
 "nbformat_minor": 2
}
