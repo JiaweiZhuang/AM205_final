{
 "cells": [
  {
   "cell_type": "code",
   "execution_count": 1,
   "metadata": {},
   "outputs": [],
   "source": [
    "%matplotlib inline\n",
    "import matplotlib.pyplot as plt\n",
    "from scipy.optimize import minimize\n",
    "\n",
    "#import numpy as np\n",
    "import autograd.numpy as np\n",
    "import autograd.numpy.random as npr\n",
    "from autograd import grad\n",
    "\n",
    "# flatten_func is moved to autograd.misc.flatten in v1.2, see\n",
    "# https://github.com/HIPS/autograd/blob/master/autograd/misc/flatten.py\n",
    "from autograd.misc.flatten import flatten_func, flatten"
   ]
  },
  {
   "cell_type": "markdown",
   "metadata": {},
   "source": [
    "## Generate data"
   ]
  },
  {
   "cell_type": "code",
   "execution_count": 2,
   "metadata": {
    "collapsed": true
   },
   "outputs": [],
   "source": [
    "def f1(x):\n",
    "    return x**2/20 + np.sin(2*x)"
   ]
  },
  {
   "cell_type": "code",
   "execution_count": 3,
   "metadata": {},
   "outputs": [
    {
     "data": {
      "text/plain": [
       "((201, 1), (201, 1))"
      ]
     },
     "execution_count": 3,
     "metadata": {},
     "output_type": "execute_result"
    },
    {
     "data": {
      "image/png": "[encoded data removed]",
      "text/plain": [
       "<matplotlib.figure.Figure at 0x114e9a128>"
      ]
     },
     "metadata": {},
     "output_type": "display_data"
    }
   ],
   "source": [
    "x = np.arange(-10, 10+1e-8, 0.1).reshape(-1,1) # shape: [n_sample*n_in] (n_in=1 here)\n",
    "y_true = f1(x)\n",
    "plt.plot(x, y_true) \n",
    "x.shape, y_true.shape"
   ]
  },
  {
   "cell_type": "markdown",
   "metadata": {},
   "source": [
    "## Build NN"
   ]
  },
  {
   "cell_type": "markdown",
   "metadata": {},
   "source": [
    "https://github.com/HIPS/autograd/blob/master/examples/neural_net_regression.py"
   ]
  },
  {
   "cell_type": "code",
   "execution_count": 4,
   "metadata": {},
   "outputs": [
    {
     "name": "stdout",
     "output_type": "stream",
     "text": [
      "[(1, 10), (10,), (10, 1), (1,)]\n"
     ]
    }
   ],
   "source": [
    "def init_weights(n_in=1, n_hidden=10, n_out=1):\n",
    "    W1 = npr.randn(n_in, n_hidden)\n",
    "    b1 = np.zeros(n_hidden)\n",
    "    W2 = npr.randn(n_hidden, n_out)\n",
    "    b2 = np.zeros(n_out)\n",
    "    params = [W1, b1, W2, b2]\n",
    "    return params\n",
    "\n",
    "params = init_weights()\n",
    "print([ p.shape for p in params ])"
   ]
  },
  {
   "cell_type": "code",
   "execution_count": 5,
   "metadata": {
    "collapsed": true
   },
   "outputs": [],
   "source": [
    "def predict(params, x, act=np.tanh):\n",
    "    W1, b1, W2, b2 = params\n",
    "    \n",
    "    a = act(np.dot(x, W1) + b1)\n",
    "    y = np.dot(a, W2) + b2\n",
    "    \n",
    "    return y"
   ]
  },
  {
   "cell_type": "code",
   "execution_count": 6,
   "metadata": {},
   "outputs": [
    {
     "data": {
      "text/plain": [
       "[<matplotlib.lines.Line2D at 0x114fa0048>]"
      ]
     },
     "execution_count": 6,
     "metadata": {},
     "output_type": "execute_result"
    },
    {
     "data": {
      "image/png": "[encoded data removed]",
      "text/plain": [
       "<matplotlib.figure.Figure at 0x114ec40b8>"
      ]
     },
     "metadata": {},
     "output_type": "display_data"
    }
   ],
   "source": [
    "y_pred = predict(params, x)\n",
    "plt.plot(x, y_pred)"
   ]
  },
  {
   "cell_type": "code",
   "execution_count": 7,
   "metadata": {
    "collapsed": true
   },
   "outputs": [],
   "source": [
    "def loss_func(params, x, y_true):\n",
    "    y_pred = predict(params, x)\n",
    "    loss = np.mean((y_pred - y_true)**2)\n",
    "    return loss"
   ]
  },
  {
   "cell_type": "code",
   "execution_count": 8,
   "metadata": {
    "scrolled": true
   },
   "outputs": [
    {
     "data": {
      "text/plain": [
       "28.898865816636931"
      ]
     },
     "execution_count": 8,
     "metadata": {},
     "output_type": "execute_result"
    }
   ],
   "source": [
    "loss_func(params, x, y_true)"
   ]
  },
  {
   "cell_type": "code",
   "execution_count": 9,
   "metadata": {
    "collapsed": true
   },
   "outputs": [],
   "source": [
    "loss_grad_func = grad(loss_func)"
   ]
  },
  {
   "cell_type": "code",
   "execution_count": 10,
   "metadata": {},
   "outputs": [
    {
     "data": {
      "text/plain": [
       "[array([[  8.05876129e+00,   6.45502348e-01,   1.03047411e-02,\n",
       "          -8.47532068e-03,   8.98434943e+01,   2.00837795e-01,\n",
       "           1.20211644e-01,   2.41467728e+01,  -8.39200998e+00,\n",
       "          -3.96956008e-02]]),\n",
       " array([ -2.77735020e-01,  -1.48356874e-02,  -2.00764167e-04,\n",
       "          1.72777012e-04,  -5.78421450e+00,  -4.20996067e-03,\n",
       "         -2.57959456e-03,  -1.55779365e+00,   3.65839206e-01,\n",
       "          7.76864326e-04]),\n",
       " array([[ 8.28741195],\n",
       "        [ 9.02679186],\n",
       "        [ 9.29932157],\n",
       "        [-9.24313745],\n",
       "        [-0.80030449],\n",
       "        [ 9.18414777],\n",
       "        [-9.14001237],\n",
       "        [-0.09054282],\n",
       "        [-7.52922316],\n",
       "        [-9.29643473]]),\n",
       " array([-3.36666667])]"
      ]
     },
     "execution_count": 10,
     "metadata": {},
     "output_type": "execute_result"
    }
   ],
   "source": [
    "loss_grad_func(params, x, y_true)"
   ]
  },
  {
   "cell_type": "markdown",
   "metadata": {},
   "source": [
    "## Gradient descend"
   ]
  },
  {
   "cell_type": "code",
   "execution_count": 11,
   "metadata": {},
   "outputs": [
    {
     "name": "stdout",
     "output_type": "stream",
     "text": [
      "11.399\n",
      "2.167\n",
      "1.511\n",
      "1.165\n",
      "1.002\n",
      "0.905\n",
      "0.837\n",
      "0.786\n",
      "1.007\n",
      "0.931\n",
      "0.860\n",
      "0.821\n",
      "0.796\n",
      "0.777\n",
      "0.761\n",
      "0.748\n",
      "0.735\n",
      "0.724\n",
      "0.713\n",
      "0.703\n"
     ]
    }
   ],
   "source": [
    "lr = 0.01 # learning rate\n",
    "\n",
    "params = init_weights(n_hidden = 20) # re-initialize weight\n",
    "for t in range(1000):\n",
    "    loss_grad =  loss_grad_func(params, x, y_true)\n",
    "    \n",
    "    for p, p_grad in zip(params, loss_grad):\n",
    "        p -= lr*p_grad\n",
    "        \n",
    "    if t % 50 == 0:\n",
    "        loss = loss_func(params, x, y_true)\n",
    "        print('{:.3f}'.format(loss))"
   ]
  },
  {
   "cell_type": "code",
   "execution_count": 12,
   "metadata": {},
   "outputs": [
    {
     "data": {
      "text/plain": [
       "[<matplotlib.lines.Line2D at 0x114e89908>]"
      ]
     },
     "execution_count": 12,
     "metadata": {},
     "output_type": "execute_result"
    },
    {
     "data": {
      "image/png": "[encoded data removed]",
      "text/plain": [
       "<matplotlib.figure.Figure at 0x114e89da0>"
      ]
     },
     "metadata": {},
     "output_type": "display_data"
    }
   ],
   "source": [
    "y_pred = predict(params, x)\n",
    "plt.plot(x, y_pred)\n",
    "plt.plot(x, y_true)"
   ]
  },
  {
   "cell_type": "markdown",
   "metadata": {},
   "source": [
    "## Scipy optimization"
   ]
  },
  {
   "cell_type": "markdown",
   "metadata": {},
   "source": [
    "Gradient function generated by autograd can be used the jacobian for scipy optimizers. Example:\n",
    "- https://github.com/HIPS/autograd/blob/master/examples/rosenbrock.py"
   ]
  },
  {
   "cell_type": "markdown",
   "metadata": {},
   "source": [
    "Scipy optimizer expects a single 1D array. Autograd provides functions to unroll a list of arrays to 1D array\n",
    "- https://github.com/HIPS/autograd/blob/master/autograd/util.py#L87"
   ]
  },
  {
   "cell_type": "markdown",
   "metadata": {},
   "source": [
    "### Flat weight parameters"
   ]
  },
  {
   "cell_type": "code",
   "execution_count": 13,
   "metadata": {
    "collapsed": true
   },
   "outputs": [],
   "source": [
    "params = init_weights(n_hidden = 10) # re-initialize weight"
   ]
  },
  {
   "cell_type": "code",
   "execution_count": 14,
   "metadata": {
    "collapsed": true
   },
   "outputs": [],
   "source": [
    "flattened_params, unflat_func = flatten(params)"
   ]
  },
  {
   "cell_type": "code",
   "execution_count": 15,
   "metadata": {
    "collapsed": true
   },
   "outputs": [],
   "source": [
    "def loss_wrap(flattened_params, x, y_true):\n",
    "    params = unflat_func(flattened_params) # recover\n",
    "    y_pred = predict(params, x)\n",
    "    loss = np.mean((y_pred - y_true)**2)\n",
    "    return loss"
   ]
  },
  {
   "cell_type": "code",
   "execution_count": 16,
   "metadata": {},
   "outputs": [
    {
     "data": {
      "text/plain": [
       "10.569623115001058"
      ]
     },
     "execution_count": 16,
     "metadata": {},
     "output_type": "execute_result"
    }
   ],
   "source": [
    "loss_func(params, x, y_true)"
   ]
  },
  {
   "cell_type": "code",
   "execution_count": 17,
   "metadata": {},
   "outputs": [
    {
     "data": {
      "text/plain": [
       "10.569623115001058"
      ]
     },
     "execution_count": 17,
     "metadata": {},
     "output_type": "execute_result"
    }
   ],
   "source": [
    "loss_wrap(flattened_params, x, y_true)"
   ]
  },
  {
   "cell_type": "code",
   "execution_count": 18,
   "metadata": {
    "collapsed": true
   },
   "outputs": [],
   "source": [
    "grad_wrap = grad(loss_wrap)"
   ]
  },
  {
   "cell_type": "code",
   "execution_count": 19,
   "metadata": {
    "collapsed": true
   },
   "outputs": [],
   "source": [
    "# use global x and y for now!\n",
    "def loss_part(flattened_params):\n",
    "    return loss_wrap(flattened_params, x, y_true)\n",
    "\n",
    "def grad_part(flattened_params):\n",
    "    # use global x and y for now\n",
    "    return grad_wrap(flattened_params, x, y_true)"
   ]
  },
  {
   "cell_type": "markdown",
   "metadata": {},
   "source": [
    "After v1.2, providing `jac` is faster."
   ]
  },
  {
   "cell_type": "code",
   "execution_count": 20,
   "metadata": {},
   "outputs": [
    {
     "name": "stdout",
     "output_type": "stream",
     "text": [
      "Warning: Maximum number of iterations has been exceeded.\n",
      "         Current function value: 0.010513\n",
      "         Iterations: 500\n",
      "         Function evaluations: 535\n",
      "         Gradient evaluations: 535\n",
      "CPU times: user 911 ms, sys: 12.5 ms, total: 923 ms\n",
      "Wall time: 937 ms\n"
     ]
    }
   ],
   "source": [
    "%%time\n",
    "optim_params = minimize(loss_part, flattened_params, method=\"BFGS\",\n",
    "                        jac = grad_part,\n",
    "                        options = {'disp': True, 'maxiter':500} )"
   ]
  },
  {
   "cell_type": "code",
   "execution_count": 21,
   "metadata": {},
   "outputs": [
    {
     "name": "stdout",
     "output_type": "stream",
     "text": [
      "500 535 535 Maximum number of iterations has been exceeded.\n"
     ]
    }
   ],
   "source": [
    "o = optim_params\n",
    "print(o.nit, o.njev, o.nfev, o.message)"
   ]
  },
  {
   "cell_type": "code",
   "execution_count": 22,
   "metadata": {},
   "outputs": [
    {
     "data": {
      "text/plain": [
       "0.010512592007940375"
      ]
     },
     "execution_count": 22,
     "metadata": {},
     "output_type": "execute_result"
    }
   ],
   "source": [
    "loss_wrap(optim_params.x , x, y_true)"
   ]
  },
  {
   "cell_type": "code",
   "execution_count": 23,
   "metadata": {
    "scrolled": true
   },
   "outputs": [
    {
     "data": {
      "text/plain": [
       "[<matplotlib.lines.Line2D at 0x1150a1588>]"
      ]
     },
     "execution_count": 23,
     "metadata": {},
     "output_type": "execute_result"
    },
    {
     "data": {
      "image/png": "[encoded data removed]",
      "text/plain": [
       "<matplotlib.figure.Figure at 0x115007ef0>"
      ]
     },
     "metadata": {},
     "output_type": "display_data"
    }
   ],
   "source": [
    "y_pred = predict(unflat_func(optim_params.x), x)\n",
    "plt.plot(x, y_true)\n",
    "plt.plot(x, y_pred, '.')"
   ]
  }
 ],
 "metadata": {
  "kernelspec": {
   "display_name": "Python 3",
   "language": "python",
   "name": "python3"
  },
  "language_info": {
   "codemirror_mode": {
    "name": "ipython",
    "version": 3
   },
   "file_extension": ".py",
   "mimetype": "text/x-python",
   "name": "python",
   "nbconvert_exporter": "python",
   "pygments_lexer": "ipython3",
   "version": "3.6.2"
  },
  "toc": {
   "nav_menu": {},
   "number_sections": true,
   "sideBar": true,
   "skip_h1_title": false,
   "toc_cell": false,
   "toc_position": {},
   "toc_section_display": "block",
   "toc_window_display": false
  }
 },
 "nbformat": 4,
 "nbformat_minor": 2
}
