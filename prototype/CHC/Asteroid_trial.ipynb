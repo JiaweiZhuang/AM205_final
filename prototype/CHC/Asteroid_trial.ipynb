{
 "cells": [
  {
   "cell_type": "code",
   "execution_count": 60,
   "metadata": {
    "collapsed": true
   },
   "outputs": [],
   "source": [
    "%matplotlib inline\n",
    "from matplotlib import pyplot as plt\n",
    "from scipy.integrate import solve_ivp # for reference\n",
    "\n",
    "import autograd.numpy as np\n",
    "from neuralsolver import NNSolver"
   ]
  },
  {
   "cell_type": "markdown",
   "metadata": {},
   "source": [
    "# Problem Definition"
   ]
  },
  {
   "cell_type": "code",
   "execution_count": 61,
   "metadata": {
    "collapsed": false
   },
   "outputs": [],
   "source": [
    "# process the initial value into a vector \n",
    "# to feed into odeint func (x0, y0, u0, v0)\n",
    "def process_init_vector(obs1, obs2, t = 0.02):\n",
    "    vector = np.array([ obs1[0], obs1[1], (obs2[0] - obs1[0])/t,  (obs2[1] - obs1[1])/t])\n",
    "    return vector\n",
    "\n",
    "# add noise because of uncertainty in the observations\n",
    "# numpy.random.normal(loc=0.0, scale=1.0, size=None)\n",
    "def add_noise(obs1, obs2):\n",
    "    E_x = np.random.normal(loc = 0.0, scale = 0.002, size = 2)\n",
    "    E_y = np.random.normal(loc = 0.0, scale = 0.002, size = 2)\n",
    "    # here we have separate noise for each x and each y\n",
    "    obs1_perturbed = np.array([obs1[0] + E_x[0], obs1[1] + E_y[0]])\n",
    "    obs2_perturbed = np.array([obs2[0] + E_x[1], obs2[1] + E_y[1]])\n",
    "    return obs1_perturbed, obs2_perturbed\n"
   ]
  },
  {
   "cell_type": "code",
   "execution_count": 62,
   "metadata": {
    "collapsed": false
   },
   "outputs": [],
   "source": [
    "# define ODE problem\n",
    "\n",
    "earth_pos = np.array([0, 0])\n",
    "moon_pos = np.array([1, 0])\n",
    "R_earth = 0.02\n",
    "R_moon = 0.005\n",
    "\n",
    "obs1 = np.array([1.0798, 0])\n",
    "obs2 = np.array([1.0802, -0.0189])\n",
    "\n",
    "def f(t, vector):\n",
    "    mu = 0.01\n",
    "    x = vector[0]\n",
    "    y = vector[1]\n",
    "    u = vector[2]\n",
    "    v = vector[3]\n",
    "    #x, y, u, v = vector\n",
    "    res = [u,\\\n",
    "            v,\\\n",
    "            v + x - mu - (x*(1 - mu))/((x**2 + y**2)**1.5) - (mu*(x - 1))/(((x - 1)**2 + y**2)**1.5),\\\n",
    "            (-u + y - ((1-mu)*y)/((x**2 + y**2)**1.5) - (mu*y)/(((x - 1)**2 + y**2)**1.5))]\n",
    "    return res\n",
    "\n",
    "t = np.linspace(0, 10, 2000).reshape(-1, 1) #increase training points\n",
    "obs1_perturbed, obs2_perturbed = add_noise(obs1, obs2)\n",
    "y0_list = process_init_vector(obs1_perturbed, obs2_perturbed) # for one single"
   ]
  },
  {
   "cell_type": "markdown",
   "metadata": {},
   "source": [
    "# Reference solution"
   ]
  },
  {
   "cell_type": "code",
   "execution_count": null,
   "metadata": {
    "collapsed": false
   },
   "outputs": [],
   "source": [
    "#plt.grid('off')\n",
    "plt.figure(figsize=(10, 8))\n",
    "\n",
    "# such that the size is proportional to the radius given\n",
    "fig = plt.gcf()\n",
    "circle_earth =plt.Circle(earth_pos, R_earth, color='red')\n",
    "circle_moon =plt.Circle(moon_pos, R_moon, color='blue')\n",
    "fig.gca().add_artist(circle_earth)\n",
    "fig.gca().add_artist(circle_moon)\n",
    "plt.xlim(-1.4, 2)\n",
    "plt.ylim(-1.2, 1.2)\n",
    "\n",
    "#plt.scatter(earth_pos[0], earth_pos[1], s= 100, label = \"earth\")\n",
    "#plt.scatter(moon_pos[0], moon_pos[1], s= 80, color = 'red', label = \"moon\")\n",
    "plt.xlabel('x')\n",
    "plt.ylabel('y')\n",
    "#plt.legend()\n",
    "\n",
    "for i in range(10):\n",
    "    obs1_perturbed, obs2_perturbed = add_noise(obs1, obs2)\n",
    "    y0_list = process_init_vector(obs1_perturbed, obs2_perturbed)\n",
    "    sol = solve_ivp(f, [t.min(), t.max()], y0_list, \n",
    "                method='Radau', rtol=1e-5)\n",
    "    plt.plot(sol.y[0], sol.y[1], alpha = 0.6)\n",
    "    "
   ]
  },
  {
   "cell_type": "markdown",
   "metadata": {},
   "source": [
    "# Neural Net Training"
   ]
  },
  {
   "cell_type": "code",
   "execution_count": null,
   "metadata": {
    "collapsed": false
   },
   "outputs": [],
   "source": [
    "nn = NNSolver(f, t, y0_list, n_hidden=20)\n",
    "nn"
   ]
  },
  {
   "cell_type": "code",
   "execution_count": null,
   "metadata": {
    "collapsed": false
   },
   "outputs": [],
   "source": [
    "nn.reset_weights()\n",
    "%time nn.train(maxiter=1000, iprint=100)"
   ]
  },
  {
   "cell_type": "markdown",
   "metadata": {},
   "source": [
    "# Verifying training set"
   ]
  },
  {
   "cell_type": "code",
   "execution_count": null,
   "metadata": {
    "collapsed": false
   },
   "outputs": [],
   "source": [
    "# using the y0 from the last iteration in for loop\n",
    "plt.xlim(-1.4, 2)\n",
    "plt.ylim(-1.2, 1.2)\n",
    "plt.plot(sol.y[0], sol.y[1], alpha = 0.6, label = 'true')\n",
    "plt.plot(y_pred_list[0], y_pred_list[1], 'o', label = 'predict')"
   ]
  },
  {
   "cell_type": "code",
   "execution_count": null,
   "metadata": {
    "collapsed": false
   },
   "outputs": [],
   "source": [
    "y_pred_list, dydt_pred_list = nn.predict()\n",
    "# scipy sol\n",
    "plt.plot(sol.t, sol.y[0], label='y1 true')\n",
    "# nn soln\n",
    "plt.plot(t, y_pred_list[0], '.', label='y1 predict')\n",
    "\n",
    "plt.plot(sol.t, sol.y[1], label='y2 true')\n",
    "plt.plot(t, y_pred_list[1], '.', label='y2 predict')\n",
    "\n",
    "plt.legend()\n",
    "plt.title('y(t)')"
   ]
  },
  {
   "cell_type": "code",
   "execution_count": null,
   "metadata": {
    "collapsed": true
   },
   "outputs": [],
   "source": []
  }
 ],
 "metadata": {
  "anaconda-cloud": {},
  "kernelspec": {
   "display_name": "Python [py35]",
   "language": "python",
   "name": "Python [py35]"
  },
  "language_info": {
   "codemirror_mode": {
    "name": "ipython",
    "version": 3
   },
   "file_extension": ".py",
   "mimetype": "text/x-python",
   "name": "python",
   "nbconvert_exporter": "python",
   "pygments_lexer": "ipython3",
   "version": "3.5.2"
  },
  "toc": {
   "nav_menu": {},
   "number_sections": true,
   "sideBar": true,
   "skip_h1_title": false,
   "toc_cell": false,
   "toc_position": {},
   "toc_section_display": "block",
   "toc_window_display": false
  }
 },
 "nbformat": 4,
 "nbformat_minor": 1
}
