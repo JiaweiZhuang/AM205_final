{
 "cells": [
  {
   "cell_type": "code",
   "execution_count": 1,
   "metadata": {
    "collapsed": true
   },
   "outputs": [],
   "source": [
    "%matplotlib inline\n",
    "from matplotlib import pyplot as plt\n",
    "\n",
    "import autograd.numpy as np\n",
    "from autograd import grad \n",
    "\n",
    "# element-wise gradient is a standard-alone function in v1.2\n",
    "from autograd import elementwise_grad as egrad\n",
    "\n",
    "import autograd.numpy.random as npr\n",
    "from autograd.misc.flatten import flatten_func, flatten\n",
    "\n",
    "from scipy.integrate import solve_ivp # for comparision\n",
    "from scipy.optimize import minimize"
   ]
  },
  {
   "cell_type": "code",
   "execution_count": 2,
   "metadata": {
    "collapsed": true
   },
   "outputs": [],
   "source": [
    "def f(t, y):\n",
    "    '''\n",
    "        dy/dt = f(t, y)\n",
    "        This is f() function on the right\n",
    "    '''    \n",
    "    \n",
    "    return [t+998*y[0] + 1998*y[1], -999*y[0] - 1999*y[1]]"
   ]
  },
  {
   "cell_type": "markdown",
   "metadata": {},
   "source": [
    "# Reference solution"
   ]
  },
  {
   "cell_type": "code",
   "execution_count": 3,
   "metadata": {},
   "outputs": [],
   "source": [
    "t0, tmax = [0, 2]\n",
    "\n",
    "#y0_list = [1, 0] # rapid increase and then decay. Can't solve by NN!\n",
    "y0_list = [2, -1] # simply decay. Can be solved by NN easily\n",
    "\n",
    "# Radau is an implicit solver. Explicit solver like RK45 needs far more time steps.\n",
    "sol = solve_ivp(f, [t0, tmax], y0_list, method='Radau', rtol=1e-5)"
   ]
  },
  {
   "cell_type": "code",
   "execution_count": 4,
   "metadata": {},
   "outputs": [
    {
     "data": {
      "text/plain": [
       "(2, 15)"
      ]
     },
     "execution_count": 4,
     "metadata": {},
     "output_type": "execute_result"
    }
   ],
   "source": [
    "sol.y.shape"
   ]
  },
  {
   "cell_type": "code",
   "execution_count": 5,
   "metadata": {
    "scrolled": true
   },
   "outputs": [
    {
     "data": {
      "text/plain": [
       "<matplotlib.legend.Legend at 0x110ac56d8>"
      ]
     },
     "execution_count": 5,
     "metadata": {},
     "output_type": "execute_result"
    },
    {
     "data": {
      "image/png": "[encoded data removed]",
      "text/plain": [
       "<matplotlib.figure.Figure at 0x114dfe780>"
      ]
     },
     "metadata": {},
     "output_type": "display_data"
    }
   ],
   "source": [
    "plt.plot(sol.t, sol.y[0], marker='.', label='y1')\n",
    "plt.plot(sol.t, sol.y[1], marker='.', label='y2')\n",
    "plt.legend()"
   ]
  },
  {
   "cell_type": "code",
   "execution_count": 6,
   "metadata": {},
   "outputs": [
    {
     "data": {
      "text/plain": [
       "<matplotlib.legend.Legend at 0x114eec5c0>"
      ]
     },
     "execution_count": 6,
     "metadata": {},
     "output_type": "execute_result"
    },
    {
     "data": {
      "image/png": "[encoded data removed]",
      "text/plain": [
       "<matplotlib.figure.Figure at 0x114f4b668>"
      ]
     },
     "metadata": {},
     "output_type": "display_data"
    }
   ],
   "source": [
    "plt.plot(sol.t, f(sol.t, sol.y)[0], marker='.', label='dy1/dt')\n",
    "plt.plot(sol.t, f(sol.t, sol.y)[1], marker='.', label='dy2/dt')\n",
    "plt.legend()"
   ]
  },
  {
   "cell_type": "markdown",
   "metadata": {},
   "source": [
    "# Build NN"
   ]
  },
  {
   "cell_type": "code",
   "execution_count": 7,
   "metadata": {
    "collapsed": true
   },
   "outputs": [],
   "source": [
    "t = np.linspace(0, 2.0, 11).reshape(-1,1) # training points"
   ]
  },
  {
   "cell_type": "code",
   "execution_count": 8,
   "metadata": {},
   "outputs": [
    {
     "name": "stdout",
     "output_type": "stream",
     "text": [
      "[(1, 10), (10,), (10, 1), (1,)]\n"
     ]
    }
   ],
   "source": [
    "def init_weights(n_in=1, n_hidden=10, n_out=1):\n",
    "    W1 = npr.randn(n_in, n_hidden)\n",
    "    b1 = np.zeros(n_hidden)\n",
    "    W2 = npr.randn(n_hidden, n_out)\n",
    "    b2 = np.zeros(n_out)\n",
    "    params = [W1, b1, W2, b2]\n",
    "    return params\n",
    "\n",
    "params1 = init_weights()\n",
    "params2 = init_weights()\n",
    "params_list = [params1, params2]\n",
    "print([ p.shape for p in params1 ])"
   ]
  },
  {
   "cell_type": "code",
   "execution_count": 9,
   "metadata": {
    "collapsed": true
   },
   "outputs": [],
   "source": [
    "def predict(params, t, y0, act=np.tanh):\n",
    "    W1, b1, W2, b2 = params\n",
    "    \n",
    "    a = act(np.dot(t, W1) + b1)\n",
    "    y = np.dot(a, W2) + b2\n",
    "    \n",
    "    phi = y0 + t*y\n",
    "    \n",
    "    return phi"
   ]
  },
  {
   "cell_type": "code",
   "execution_count": 10,
   "metadata": {},
   "outputs": [
    {
     "data": {
      "text/plain": [
       "(11, 1)"
      ]
     },
     "execution_count": 10,
     "metadata": {},
     "output_type": "execute_result"
    }
   ],
   "source": [
    "predict(params1, t, y0_list[1]).shape # vectorized over t"
   ]
  },
  {
   "cell_type": "code",
   "execution_count": 11,
   "metadata": {
    "collapsed": true
   },
   "outputs": [],
   "source": [
    "predict_dt = egrad(predict, argnum=1) # element-wise grad w.r.t t, "
   ]
  },
  {
   "cell_type": "code",
   "execution_count": 12,
   "metadata": {},
   "outputs": [
    {
     "data": {
      "text/plain": [
       "(11, 1)"
      ]
     },
     "execution_count": 12,
     "metadata": {},
     "output_type": "execute_result"
    }
   ],
   "source": [
    "predict_dt(params1, t, y0_list[1]).shape"
   ]
  },
  {
   "cell_type": "code",
   "execution_count": 13,
   "metadata": {},
   "outputs": [
    {
     "data": {
      "text/plain": [
       "[<matplotlib.lines.Line2D at 0x1150cd320>]"
      ]
     },
     "execution_count": 13,
     "metadata": {},
     "output_type": "execute_result"
    },
    {
     "data": {
      "image/png": "[encoded data removed]",
      "text/plain": [
       "<matplotlib.figure.Figure at 0x114efa748>"
      ]
     },
     "metadata": {},
     "output_type": "display_data"
    }
   ],
   "source": [
    "plt.plot(predict(params1, t, y0_list[0]))\n",
    "plt.plot(predict_dt(params1, t, y0_list[0]))\n",
    "plt.plot(predict(params2, t, y0_list[1]))\n",
    "plt.plot(predict_dt(params2, t, y0_list[1]))"
   ]
  },
  {
   "cell_type": "code",
   "execution_count": 14,
   "metadata": {
    "collapsed": true
   },
   "outputs": [],
   "source": [
    "def loss_func(params_list, t, y0_list):\n",
    "    \n",
    "    \n",
    "    y_pred_list = []\n",
    "    dydt_pred_list = []\n",
    "    for params, y0 in zip(params_list, y0_list):\n",
    "        y_pred =  predict(params, t, y0)\n",
    "        dydt_pred = predict_dt(params, t, y0)\n",
    "        \n",
    "        y_pred_list.append(y_pred)\n",
    "        dydt_pred_list.append(dydt_pred)\n",
    "        \n",
    "    f_pred_list = f(t, y_pred_list)\n",
    "    \n",
    "    loss_total = 0.0\n",
    "    for f_pred, dydt_pred in zip(f_pred_list, dydt_pred_list):\n",
    "        loss = np.sum( (dydt_pred-f_pred)**2 )\n",
    "        loss_total += loss\n",
    "    \n",
    "    return loss_total "
   ]
  },
  {
   "cell_type": "code",
   "execution_count": 15,
   "metadata": {},
   "outputs": [
    {
     "data": {
      "text/plain": [
       "1152424027.6959553"
      ]
     },
     "execution_count": 15,
     "metadata": {},
     "output_type": "execute_result"
    }
   ],
   "source": [
    "loss_func(params_list, t, y0_list)"
   ]
  },
  {
   "cell_type": "code",
   "execution_count": 16,
   "metadata": {
    "collapsed": true
   },
   "outputs": [],
   "source": [
    "flattened_params, unflat_func = flatten(params_list)"
   ]
  },
  {
   "cell_type": "code",
   "execution_count": 17,
   "metadata": {
    "collapsed": true
   },
   "outputs": [],
   "source": [
    "def loss_part(flattened_params):\n",
    "    '''make partial function. \n",
    "    Use this simple method because\n",
    "    autograd or scipy does not like functool.partial'''\n",
    "    \n",
    "    params_list = unflat_func(flattened_params) # recover\n",
    "    \n",
    "    # warning: global t and y0 are used\n",
    "    return loss_func(params_list, t, y0_list)"
   ]
  },
  {
   "cell_type": "code",
   "execution_count": 18,
   "metadata": {},
   "outputs": [
    {
     "data": {
      "text/plain": [
       "1152424027.6959553"
      ]
     },
     "execution_count": 18,
     "metadata": {},
     "output_type": "execute_result"
    }
   ],
   "source": [
    "loss_part(flattened_params)"
   ]
  },
  {
   "cell_type": "code",
   "execution_count": 19,
   "metadata": {
    "collapsed": true
   },
   "outputs": [],
   "source": [
    "loss_part_grad = grad(loss_part)"
   ]
  },
  {
   "cell_type": "code",
   "execution_count": 20,
   "metadata": {},
   "outputs": [
    {
     "data": {
      "text/plain": [
       "(62,)"
      ]
     },
     "execution_count": 20,
     "metadata": {},
     "output_type": "execute_result"
    }
   ],
   "source": [
    "loss_part_grad(flattened_params).shape"
   ]
  },
  {
   "cell_type": "code",
   "execution_count": 21,
   "metadata": {},
   "outputs": [
    {
     "name": "stdout",
     "output_type": "stream",
     "text": [
      "iteration: 0 loss:  187592144.428\n",
      "iteration: 200 loss:  0.00870558166784\n",
      "iteration: 400 loss:  9.74109710929e-05\n",
      "Warning: Desired error not necessarily achieved due to precision loss.\n",
      "         Current function value: 0.000088\n",
      "         Iterations: 489\n",
      "         Function evaluations: 612\n",
      "         Gradient evaluations: 600\n",
      "CPU times: user 3.69 s, sys: 37.2 ms, total: 3.73 s\n",
      "Wall time: 3.77 s\n"
     ]
    }
   ],
   "source": [
    "%%time\n",
    "count = 0\n",
    "def print_loss(x):\n",
    "    global count\n",
    "    if count %200 == 0:  \n",
    "        print(\"iteration:\", count, \"loss: \", loss_part(x))\n",
    "    count += 1\n",
    "        \n",
    "o = minimize(loss_part, x0=flattened_params, jac=loss_part_grad, \n",
    "             method=\"BFGS\", callback=print_loss, \n",
    "             options = {'disp': True, 'maxiter': 1000})"
   ]
  },
  {
   "cell_type": "code",
   "execution_count": 22,
   "metadata": {},
   "outputs": [
    {
     "data": {
      "text/plain": [
       "8.7741038465069277e-05"
      ]
     },
     "execution_count": 22,
     "metadata": {},
     "output_type": "execute_result"
    }
   ],
   "source": [
    "loss_part(o.x)"
   ]
  },
  {
   "cell_type": "code",
   "execution_count": 23,
   "metadata": {},
   "outputs": [
    {
     "name": "stdout",
     "output_type": "stream",
     "text": [
      "8.774103846506928e-05 600 612 \n",
      " Desired error not necessarily achieved due to precision loss.\n"
     ]
    }
   ],
   "source": [
    "print(o.fun, o.njev, o.nfev, '\\n', o.message)"
   ]
  },
  {
   "cell_type": "code",
   "execution_count": 24,
   "metadata": {
    "collapsed": true
   },
   "outputs": [],
   "source": [
    "params1_opt, params2_opt = unflat_func(o.x)"
   ]
  },
  {
   "cell_type": "code",
   "execution_count": 25,
   "metadata": {},
   "outputs": [
    {
     "data": {
      "text/plain": [
       "<matplotlib.text.Text at 0x11521c7f0>"
      ]
     },
     "execution_count": 25,
     "metadata": {},
     "output_type": "execute_result"
    },
    {
     "data": {
      "image/png": "[encoded data removed]",
      "text/plain": [
       "<matplotlib.figure.Figure at 0x115296e48>"
      ]
     },
     "metadata": {},
     "output_type": "display_data"
    }
   ],
   "source": [
    "plt.plot(sol.t, sol.y[0], label='y1 true')\n",
    "plt.plot(t, predict(params1_opt, t, y0_list[0]), 'o', label='y1 predict')\n",
    "\n",
    "plt.plot(sol.t, sol.y[1], label='y2 true')\n",
    "plt.plot(t, predict(params2_opt, t, y0_list[1]), 'o', label='y2 predict')\n",
    "\n",
    "plt.legend()\n",
    "plt.title('y(t)')"
   ]
  },
  {
   "cell_type": "code",
   "execution_count": 26,
   "metadata": {},
   "outputs": [
    {
     "data": {
      "text/plain": [
       "<matplotlib.text.Text at 0x1152a1860>"
      ]
     },
     "execution_count": 26,
     "metadata": {},
     "output_type": "execute_result"
    },
    {
     "data": {
      "image/png": "[encoded data removed]",
      "text/plain": [
       "<matplotlib.figure.Figure at 0x11537cac8>"
      ]
     },
     "metadata": {},
     "output_type": "display_data"
    }
   ],
   "source": [
    "plt.plot(sol.t, f(sol.t, sol.y)[0])\n",
    "plt.plot(t, predict_dt(params1_opt, t, y0_list[0]), 'o')\n",
    "\n",
    "plt.plot(sol.t, f(sol.t, sol.y)[1])\n",
    "plt.plot(t, predict_dt(params2_opt, t, y0_list[1]), 'o')\n",
    "\n",
    "plt.title('dy/dt')"
   ]
  }
 ],
 "metadata": {
  "kernelspec": {
   "display_name": "Python 3",
   "language": "python",
   "name": "python3"
  },
  "language_info": {
   "codemirror_mode": {
    "name": "ipython",
    "version": 3
   },
   "file_extension": ".py",
   "mimetype": "text/x-python",
   "name": "python",
   "nbconvert_exporter": "python",
   "pygments_lexer": "ipython3",
   "version": "3.6.2"
  },
  "toc": {
   "nav_menu": {},
   "number_sections": true,
   "sideBar": true,
   "skip_h1_title": false,
   "toc_cell": false,
   "toc_position": {},
   "toc_section_display": "block",
   "toc_window_display": false
  }
 },
 "nbformat": 4,
 "nbformat_minor": 2
}
